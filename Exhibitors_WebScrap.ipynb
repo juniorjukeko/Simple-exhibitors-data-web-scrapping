{
 "cells": [
  {
   "cell_type": "code",
   "execution_count": 1,
   "metadata": {},
   "outputs": [],
   "source": [
    "import pandas as pd\n",
    "from bs4 import BeautifulSoup\n",
    "import requests"
   ]
  },
  {
   "cell_type": "markdown",
   "metadata": {},
   "source": [
    "## **Objectives**"
   ]
  },
  {
   "cell_type": "markdown",
   "metadata": {},
   "source": [
    "Our client will join the parcel + post expo in Frankfurt, Germany.\n",
    "For this we need an Excel list of all exhibitors. You can find them in this website: https://www.parcelandpostexpo.com/de/exhibitor-list.php\n",
    "\n",
    "In the Excel sheet we need following columns:\n",
    "- Company Name\n",
    "- Country\n",
    "- URL from their company website\n",
    "- Information if they speak German, you can enter \"yes\" when they are from Germany (Deutschland), Switzerland (Schweiz) or Austria Österreich)"
   ]
  },
  {
   "cell_type": "code",
   "execution_count": 2,
   "metadata": {},
   "outputs": [],
   "source": [
    "URL = \"https://www.parcelandpostexpo.com/en/exhibitor-list.php\"\n",
    "page = requests.get(URL)\n",
    "soup = BeautifulSoup(page.content, \"html.parser\")"
   ]
  },
  {
   "cell_type": "code",
   "execution_count": 3,
   "metadata": {},
   "outputs": [],
   "source": [
    "# If link doesn't work\n",
    "with open('PARCEL+POST EXPO 2022.html', 'r') as f:\n",
    "    contents = f.read()\n",
    "    soup = BeautifulSoup(contents, 'lxml')"
   ]
  },
  {
   "cell_type": "code",
   "execution_count": 4,
   "metadata": {},
   "outputs": [],
   "source": [
    "exhibitor_df = pd.DataFrame({'stand_no':[],'company_name':[],'country':[],'company_site':[], 'german_speaking?':[]})"
   ]
  },
  {
   "cell_type": "code",
   "execution_count": 5,
   "metadata": {},
   "outputs": [],
   "source": [
    "ger_speaking_ctry = [\"GERMANY\", \"SWITZERLAND\", \"AUSTRIA\"]\n",
    "\n",
    "cards = soup.find_all(\"div\", class_=\"col-md-4 exhibitor-column\")\n",
    "for card in cards:\n",
    "    stand_no, company_name, country, company_site = card[\"data-stand\"], card[\"data-company\"], card[\"data-country\"], card.find('a')[\"href\"]\n",
    "    lang_german = \"yes\" if country in ger_speaking_ctry else \"no\"\n",
    "    \n",
    "    val_list = [stand_no, company_name, country, company_site, lang_german]\n",
    "    exhibitor_df.loc[len(exhibitor_df)] = val_list"
   ]
  },
  {
   "cell_type": "code",
   "execution_count": 6,
   "metadata": {},
   "outputs": [],
   "source": [
    "# Reformatting data\n",
    "exhibitor_df['country'] = exhibitor_df['country'].str.title()"
   ]
  },
  {
   "cell_type": "code",
   "execution_count": 7,
   "metadata": {},
   "outputs": [
    {
     "data": {
      "text/html": [
       "<div>\n",
       "<style scoped>\n",
       "    .dataframe tbody tr th:only-of-type {\n",
       "        vertical-align: middle;\n",
       "    }\n",
       "\n",
       "    .dataframe tbody tr th {\n",
       "        vertical-align: top;\n",
       "    }\n",
       "\n",
       "    .dataframe thead th {\n",
       "        text-align: right;\n",
       "    }\n",
       "</style>\n",
       "<table border=\"1\" class=\"dataframe\">\n",
       "  <thead>\n",
       "    <tr style=\"text-align: right;\">\n",
       "      <th></th>\n",
       "      <th>stand_no</th>\n",
       "      <th>company_name</th>\n",
       "      <th>country</th>\n",
       "      <th>company_site</th>\n",
       "      <th>german_speaking?</th>\n",
       "    </tr>\n",
       "  </thead>\n",
       "  <tbody>\n",
       "    <tr>\n",
       "      <th>0</th>\n",
       "      <td>2021</td>\n",
       "      <td>3DTIM Elektronik A.S.</td>\n",
       "      <td>Turkey</td>\n",
       "      <td>http://www.beevision.ai/</td>\n",
       "      <td>no</td>\n",
       "    </tr>\n",
       "    <tr>\n",
       "      <th>1</th>\n",
       "      <td>3056</td>\n",
       "      <td>Addax Motors</td>\n",
       "      <td>Belgium</td>\n",
       "      <td>https://www.addaxmotors.com/</td>\n",
       "      <td>no</td>\n",
       "    </tr>\n",
       "    <tr>\n",
       "      <th>2</th>\n",
       "      <td>2064</td>\n",
       "      <td>Agora 24/7</td>\n",
       "      <td>Denmark</td>\n",
       "      <td>https://www.agora-networks.com/</td>\n",
       "      <td>no</td>\n",
       "    </tr>\n",
       "    <tr>\n",
       "      <th>3</th>\n",
       "      <td>3104</td>\n",
       "      <td>Aidea Co., Ltd.</td>\n",
       "      <td>Japan</td>\n",
       "      <td>https://aidea.net/</td>\n",
       "      <td>no</td>\n",
       "    </tr>\n",
       "    <tr>\n",
       "      <th>4</th>\n",
       "      <td>5055</td>\n",
       "      <td>Amazon Web Services EMEA SARL</td>\n",
       "      <td>Germany</td>\n",
       "      <td>https://aws.amazon.com/</td>\n",
       "      <td>yes</td>\n",
       "    </tr>\n",
       "  </tbody>\n",
       "</table>\n",
       "</div>"
      ],
      "text/plain": [
       "  stand_no                   company_name  country  \\\n",
       "0     2021          3DTIM Elektronik A.S.   Turkey   \n",
       "1     3056                   Addax Motors  Belgium   \n",
       "2     2064                     Agora 24/7  Denmark   \n",
       "3     3104               Aidea Co., Ltd.     Japan   \n",
       "4     5055  Amazon Web Services EMEA SARL  Germany   \n",
       "\n",
       "                      company_site german_speaking?  \n",
       "0         http://www.beevision.ai/               no  \n",
       "1     https://www.addaxmotors.com/               no  \n",
       "2  https://www.agora-networks.com/               no  \n",
       "3               https://aidea.net/               no  \n",
       "4          https://aws.amazon.com/              yes  "
      ]
     },
     "execution_count": 7,
     "metadata": {},
     "output_type": "execute_result"
    }
   ],
   "source": [
    "exhibitor_df.head()"
   ]
  }
 ],
 "metadata": {
  "kernelspec": {
   "display_name": "Python 3.10.0 64-bit",
   "language": "python",
   "name": "python3"
  },
  "language_info": {
   "codemirror_mode": {
    "name": "ipython",
    "version": 3
   },
   "file_extension": ".py",
   "mimetype": "text/x-python",
   "name": "python",
   "nbconvert_exporter": "python",
   "pygments_lexer": "ipython3",
   "version": "3.10.0"
  },
  "orig_nbformat": 4,
  "vscode": {
   "interpreter": {
    "hash": "78d3879e55fa46ad822c0717174859e77a1b80e72b088d1f45bc1ee831f1082d"
   }
  }
 },
 "nbformat": 4,
 "nbformat_minor": 2
}
